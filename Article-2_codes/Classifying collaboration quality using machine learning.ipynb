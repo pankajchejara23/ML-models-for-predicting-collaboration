{
 "cells": [
  {
   "cell_type": "code",
   "execution_count": 1,
   "metadata": {},
   "outputs": [],
   "source": [
    "import pandas as pd\n",
    "import numpy as np\n",
    "from sklearn.model_selection import StratifiedKFold\n",
    "from sklearn.ensemble import AdaBoostClassifier\n",
    "from sklearn.neighbors import KNeighborsClassifier\n",
    "from sklearn.ensemble import RandomForestClassifier\n",
    "\n",
    "from sklearn.preprocessing import StandardScaler\n",
    "from sklearn.linear_model import LogisticRegression\n",
    "from sklearn.decomposition import PCA\n",
    "from sklearn.pipeline import Pipeline\n",
    "from sklearn.model_selection import train_test_split\n",
    "from sklearn.metrics import cohen_kappa_score, precision_score,recall_score, accuracy_score\n",
    "from sklearn.metrics import confusion_matrix\n",
    "from sklearn.preprocessing import PolynomialFeatures\n",
    "from sklearn.svm import SVC\n",
    "\n",
    "from sklearn.model_selection import GridSearchCV\n",
    "from efar import *"
   ]
  },
  {
   "cell_type": "markdown",
   "metadata": {},
   "source": [
    "## Loading dataset for modeling\n",
    "First we will select features using domain knowledge and literature in the field of MMLA.\n",
    "Features:\n",
    "* mouth area \n",
    "* head pose\n",
    "* basic emotion\n",
    "* action units\n",
    "* etherpad logs stats\n",
    "\n"
   ]
  },
  {
   "cell_type": "code",
   "execution_count": 2,
   "metadata": {},
   "outputs": [],
   "source": [
    "X = pd.read_csv('X_proper_dataset_38_43_44_45.csv')\n",
    "y = pd.read_csv('y_proper_dataset_38_43_44_45.csv')"
   ]
  },
  {
   "cell_type": "code",
   "execution_count": 237,
   "metadata": {},
   "outputs": [],
   "source": [
    "X2 = pd.read_csv('X_vid_classification_data.csv')\n",
    "y2 = pd.read_csv('y_classification.csv')"
   ]
  },
  {
   "cell_type": "code",
   "execution_count": null,
   "metadata": {},
   "outputs": [],
   "source": [
    "def combineFrames(X,y,n):\n",
    "    "
   ]
  },
  {
   "cell_type": "code",
   "execution_count": null,
   "metadata": {},
   "outputs": [
    {
     "name": "stdout",
     "output_type": "stream",
     "text": [
      "--------------: ARG :---------------------\n",
      "===============\n",
      " Model: svc\n",
      "===============\n"
     ]
    },
    {
     "name": "stderr",
     "output_type": "stream",
     "text": [
      "/Users/pankaj/opt/anaconda3/lib/python3.8/site-packages/sklearn/metrics/_classification.py:1318: UndefinedMetricWarning: Precision is ill-defined and being set to 0.0 due to no predicted samples. Use `zero_division` parameter to control this behavior.\n",
      "  _warn_prf(average, modifier, msg_start, len(result))\n",
      "/Users/pankaj/opt/anaconda3/lib/python3.8/site-packages/sklearn/metrics/_classification.py:1318: UndefinedMetricWarning: Precision is ill-defined and being set to 0.0 due to no predicted samples. Use `zero_division` parameter to control this behavior.\n",
      "  _warn_prf(average, modifier, msg_start, len(result))\n",
      "/Users/pankaj/opt/anaconda3/lib/python3.8/site-packages/sklearn/metrics/_classification.py:1318: UndefinedMetricWarning: Precision is ill-defined and being set to 0.0 due to no predicted samples. Use `zero_division` parameter to control this behavior.\n",
      "  _warn_prf(average, modifier, msg_start, len(result))\n",
      "/Users/pankaj/opt/anaconda3/lib/python3.8/site-packages/sklearn/metrics/_classification.py:1318: UndefinedMetricWarning: Precision is ill-defined and being set to 0.0 due to no predicted samples. Use `zero_division` parameter to control this behavior.\n",
      "  _warn_prf(average, modifier, msg_start, len(result))\n",
      "/Users/pankaj/opt/anaconda3/lib/python3.8/site-packages/sklearn/metrics/_classification.py:1318: UndefinedMetricWarning: Precision is ill-defined and being set to 0.0 due to no predicted samples. Use `zero_division` parameter to control this behavior.\n",
      "  _warn_prf(average, modifier, msg_start, len(result))\n",
      "/Users/pankaj/opt/anaconda3/lib/python3.8/site-packages/sklearn/metrics/_classification.py:1318: UndefinedMetricWarning: Precision is ill-defined and being set to 0.0 due to no predicted samples. Use `zero_division` parameter to control this behavior.\n",
      "  _warn_prf(average, modifier, msg_start, len(result))\n"
     ]
    },
    {
     "name": "stdout",
     "output_type": "stream",
     "text": [
      "\n",
      "***********  Across folds performance  ***********\n",
      "\n",
      "Kappa            Train: 0.27 (0.34) Test: 0.04 (0.07)\n",
      "Accuracy         Train: 0.68 (0.14) Test: 0.57 (0.04)\n",
      "Precision        Train: 0.36 (0.44) Test: 0.23 (0.30)\n",
      "Recall           Train: 0.30 (0.38) Test: 0.15 (0.20)\n",
      "\n",
      "===============\n",
      " Model: ada\n",
      "===============\n",
      "\n",
      "***********  Across folds performance  ***********\n",
      "\n",
      "Kappa            Train: 0.81 (0.05) Test: 0.09 (0.08)\n",
      "Accuracy         Train: 0.90 (0.02) Test: 0.56 (0.06)\n",
      "Precision        Train: 0.90 (0.03) Test: 0.57 (0.18)\n",
      "Recall           Train: 0.88 (0.03) Test: 0.46 (0.21)\n",
      "\n",
      "===============\n",
      " Model: knn\n",
      "===============\n",
      "\n",
      "***********  Across folds performance  ***********\n",
      "\n",
      "Kappa            Train: 0.67 (0.05) Test: 0.06 (0.11)\n",
      "Accuracy         Train: 0.84 (0.03) Test: 0.54 (0.07)\n",
      "Precision        Train: 0.80 (0.04) Test: 0.55 (0.23)\n",
      "Recall           Train: 0.83 (0.04) Test: 0.46 (0.18)\n",
      "\n",
      "--------------: CF :---------------------\n",
      "===============\n",
      " Model: svc\n",
      "===============\n",
      "\n",
      "***********  Across folds performance  ***********\n",
      "\n",
      "Kappa            Train: 0.20 (0.40) Test: 0.00 (0.00)\n",
      "Accuracy         Train: 0.82 (0.09) Test: 0.72 (0.12)\n",
      "Precision        Train: 0.82 (0.09) Test: 0.78 (0.00)\n",
      "Recall           Train: 1.00 (0.00) Test: 0.89 (0.21)\n",
      "\n",
      "===============\n",
      " Model: ada\n",
      "===============\n"
     ]
    }
   ],
   "source": [
    "ada = AdaBoostClassifier(n_estimators=20)\n",
    "svc = SVC()\n",
    "rf = RandomForestClassifier()\n",
    "knn = KNeighborsClassifier()\n",
    "\n",
    "models = {'svc':svc,'ada':ada,'knn':knn}\n",
    "search_params = {}\n",
    "\n",
    "search_params['knn'] = {'knn__n_neighbors':[4,5,6,7]}\n",
    "search_params['ada'] = {'ada__n_estimators': [50,100]}        \n",
    "search_params['svc'] = {'svc__C':[.1,1,.01,10]}\n",
    "dimensions = ['ARG', 'CF', 'CO', 'CQ', 'ITO', 'KE', 'SMU', 'STR']\n",
    "for dim in dimensions:\n",
    "    dim_results = {}\n",
    "    if dim == 'CQ':\n",
    "        continue\n",
    "    dim_label = dim + \"_bi\"\n",
    "    print('--------------:',dim.upper(),':---------------------')\n",
    "\n",
    "    assessModel(models,search_params,X,y[dim_label])"
   ]
  },
  {
   "cell_type": "code",
   "execution_count": null,
   "metadata": {},
   "outputs": [],
   "source": []
  }
 ],
 "metadata": {
  "kernelspec": {
   "display_name": "Python 3",
   "language": "python",
   "name": "python3"
  },
  "language_info": {
   "codemirror_mode": {
    "name": "ipython",
    "version": 3
   },
   "file_extension": ".py",
   "mimetype": "text/x-python",
   "name": "python",
   "nbconvert_exporter": "python",
   "pygments_lexer": "ipython3",
   "version": "3.8.5"
  }
 },
 "nbformat": 4,
 "nbformat_minor": 4
}
