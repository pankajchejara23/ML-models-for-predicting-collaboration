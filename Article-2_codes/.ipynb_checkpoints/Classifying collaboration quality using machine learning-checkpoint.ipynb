{
 "cells": [
  {
   "cell_type": "code",
   "execution_count": 64,
   "metadata": {},
   "outputs": [],
   "source": [
    "import pandas as pd\n",
    "from efar import assessGeneralizability\n",
    "from sklearn.model_selection import StratifiedShuffleSplit\n",
    "from sklearn.ensemble import AdaBoostClassifier\n",
    "from sklearn.neighbors import KNeighborsClassifier\n",
    "from sklearn.preprocessing import StandardScaler\n",
    "from sklearn.decomposition import PCA\n",
    "from sklearn.pipeline import Pipeline\n",
    "from sklearn.model_selection import train_test_split\n",
    "from sklearn.metrics import cohen_kappa_score, precision_score,recall_score, accuracy_score\n",
    "from sklearn.metrics import confusion_matrix"
   ]
  },
  {
   "cell_type": "markdown",
   "metadata": {},
   "source": [
    "## Loading dataset for modeling\n",
    "First we will select features using domain knowledge and literature in the field of MMLA.\n",
    "Features:\n",
    "* mouth area \n",
    "* head pose\n",
    "* basic emotion\n",
    "* action units\n",
    "* etherpad logs stats\n",
    "\n"
   ]
  },
  {
   "cell_type": "code",
   "execution_count": 41,
   "metadata": {},
   "outputs": [],
   "source": [
    "X = pd.read_csv('X_proper_dataset_38_43_44_45.csv')\n",
    "y = pd.read_csv('y_proper_dataset_38_43_44_45.csv')"
   ]
  },
  {
   "cell_type": "code",
   "execution_count": 46,
   "metadata": {},
   "outputs": [],
   "source": [
    "ada = AdaBoostClassifier(n_estimators=150)\n",
    "X_train,X_test,y_train,y_test = train_test_split(X,y['ARG_bi'])"
   ]
  },
  {
   "cell_type": "code",
   "execution_count": 47,
   "metadata": {},
   "outputs": [
    {
     "data": {
      "text/plain": [
       "AdaBoostClassifier(n_estimators=150)"
      ]
     },
     "execution_count": 47,
     "metadata": {},
     "output_type": "execute_result"
    }
   ],
   "source": [
    "ada.fit(X_train,y_train)"
   ]
  },
  {
   "cell_type": "code",
   "execution_count": 58,
   "metadata": {},
   "outputs": [],
   "source": [
    "x = cohen_kappa_score(ada.predict(X_test),y_test)"
   ]
  },
  {
   "cell_type": "code",
   "execution_count": 59,
   "metadata": {},
   "outputs": [
    {
     "data": {
      "text/plain": [
       "0.46038454669920836"
      ]
     },
     "execution_count": 59,
     "metadata": {},
     "output_type": "execute_result"
    }
   ],
   "source": [
    "x"
   ]
  },
  {
   "cell_type": "code",
   "execution_count": 78,
   "metadata": {},
   "outputs": [],
   "source": [
    "def tuneParameters(estimator,search_params,X,y):\n",
    "    split = StratifiedShuffleSplit(n_splits=5).split(X_train,y_train)\n",
    "    rcv = GridSearchCV(estimator,search_params,cv=split)\n",
    "    rcv.fit(X,y)\n",
    "    return rcv.best_estimator_,rcv.best_params_\n",
    "\n",
    "def classificationMetrics(estimator,X,y):\n",
    "    results = {}\n",
    "    y_pred = estimator.predict(X)\n",
    "    print(confusion_matrix(y,y_pred).ravel())\n",
    "    \n",
    "    tn, fp, fn, tp = confusion_matrix(y,y_pred).ravel()  \n",
    "    \n",
    "    results['precision'] = precision_score(y,y_pred)\n",
    "    results['recall'] = recall_score(y,y_pred)\n",
    "    results['cohen_kappa_score'] = cohen_kappa_score(y,y_pred)\n",
    "    results['precision_neg'] = tn /(tn + fn)\n",
    "    results['recall_neg'] = tn /(tn+fp) \n",
    "    results['accuracy'] = accuracy_score(y,y_pred)\n",
    "    return results\n",
    "\n",
    "def printClassificationMetrics(metrics):\n",
    "    print('  Across folds performance')\n",
    "    for metric in metrics.keys():\n",
    "        print('  %s : %.2f (%.2f)' % (metric,np.mean(metrics[metric]),np.sd(metrics[metric])))"
   ]
  },
  {
   "cell_type": "code",
   "execution_count": 70,
   "metadata": {},
   "outputs": [],
   "source": [
    "def assessGen(estimator,X,y,search_params,level,verbose,**kwargs):\n",
    "    # to store metric score\n",
    "    train_scores = {}\n",
    "    test_scores={}\n",
    "    \n",
    "    fold = 1\n",
    "    \n",
    "    # metric to compute\n",
    "    metrics = ['precision','recall','cohen_kappa_score','precision_neg','recall_neg','accuracy']\n",
    "    \n",
    "    # initialize with empty list\n",
    "    for metric in metrics:\n",
    "        train_scores[metric] = list()\n",
    "        test_scores[metric] = list()\n",
    "    \n",
    "    if level == 'instance':\n",
    "        splits = StratifiedShuffleSplit(n_splits=10).split(X,y)\n",
    "    else:\n",
    "        splits = LeaveOneGroupOut().split(X,y,groups=kwargs['groups'])\n",
    "    \n",
    "    for train,test in splits:\n",
    "        X_train,y_train = X.iloc[train,:],y[train]\n",
    "        X_test,y_test = X.iloc[test,:],y[test]\n",
    "\n",
    "        print(X_train.shape,y_train.shape)\n",
    "    \n",
    "        estimator.fit(X_train,y_train)\n",
    "    \n",
    "        scores_1 = classificationMetrics(estimator,X_train,y_train)\n",
    "        scores_2 = classificationMetrics(estimator,X_test,y_test)\n",
    "        \n",
    "        for metric in metrics:\n",
    "            train_scores[metric].append(scores_1[metric])\n",
    "            test_scores[metric].append(scores_2[metric])\n",
    "            \n",
    "            \n",
    "        if verbose:\n",
    "            print('  ------Upper Split No.%d -------' % (fold))\n",
    "            print('  Train data: %s Test data: %s' % (len(train),len(test)))\n",
    "            print('  Train kappa:', scores_1['kappa'],'recall_neg:',scores_1['recall_neg'])\n",
    "            print('  Test kappa:', scores_2['kappa'],'recall_neg:',scores_2['recall_neg'])\n",
    "            \n",
    "        \n",
    "        \n",
    "        fold += 1\n",
    "        \n",
    "    \n",
    "    printClassificationMetrics(train_scores)\n",
    "    printClassificationMetrics(test_scores)\n",
    "    \n",
    "    return train_scores,test_scores\n",
    "    \n",
    "    "
   ]
  },
  {
   "cell_type": "code",
   "execution_count": 79,
   "metadata": {},
   "outputs": [
    {
     "name": "stdout",
     "output_type": "stream",
     "text": [
      "[  3   0   0   0   0   0   7  18   4   0   0  16 250  34  44   0   4  51\n",
      "  31  30   0   2  54  50  65]\n"
     ]
    },
    {
     "ename": "ValueError",
     "evalue": "too many values to unpack (expected 4)",
     "output_type": "error",
     "traceback": [
      "\u001b[0;31m---------------------------------------------------------------------------\u001b[0m",
      "\u001b[0;31mValueError\u001b[0m                                Traceback (most recent call last)",
      "\u001b[0;32m<ipython-input-79-ede7c6e26c23>\u001b[0m in \u001b[0;36m<module>\u001b[0;34m\u001b[0m\n\u001b[1;32m      1\u001b[0m \u001b[0mada\u001b[0m \u001b[0;34m=\u001b[0m \u001b[0mAdaBoostClassifier\u001b[0m\u001b[0;34m(\u001b[0m\u001b[0mn_estimators\u001b[0m\u001b[0;34m=\u001b[0m\u001b[0;36m200\u001b[0m\u001b[0;34m)\u001b[0m\u001b[0;34m\u001b[0m\u001b[0;34m\u001b[0m\u001b[0m\n\u001b[0;32m----> 2\u001b[0;31m \u001b[0massessGen\u001b[0m\u001b[0;34m(\u001b[0m\u001b[0mada\u001b[0m\u001b[0;34m,\u001b[0m\u001b[0mX\u001b[0m\u001b[0;34m,\u001b[0m\u001b[0my\u001b[0m\u001b[0;34m[\u001b[0m\u001b[0;34m'ARG'\u001b[0m\u001b[0;34m]\u001b[0m\u001b[0;34m,\u001b[0m\u001b[0;34m{\u001b[0m\u001b[0;34m}\u001b[0m\u001b[0;34m,\u001b[0m\u001b[0;34m'instance'\u001b[0m\u001b[0;34m,\u001b[0m\u001b[0;32mTrue\u001b[0m\u001b[0;34m)\u001b[0m\u001b[0;34m\u001b[0m\u001b[0;34m\u001b[0m\u001b[0m\n\u001b[0m",
      "\u001b[0;32m<ipython-input-70-8dfb91f728c0>\u001b[0m in \u001b[0;36massessGen\u001b[0;34m(estimator, X, y, search_params, level, verbose, **kwargs)\u001b[0m\n\u001b[1;32m     26\u001b[0m         \u001b[0mestimator\u001b[0m\u001b[0;34m.\u001b[0m\u001b[0mfit\u001b[0m\u001b[0;34m(\u001b[0m\u001b[0mX_train\u001b[0m\u001b[0;34m,\u001b[0m\u001b[0my_train\u001b[0m\u001b[0;34m)\u001b[0m\u001b[0;34m\u001b[0m\u001b[0;34m\u001b[0m\u001b[0m\n\u001b[1;32m     27\u001b[0m \u001b[0;34m\u001b[0m\u001b[0m\n\u001b[0;32m---> 28\u001b[0;31m         \u001b[0mscores_1\u001b[0m \u001b[0;34m=\u001b[0m \u001b[0mclassificationMetrics\u001b[0m\u001b[0;34m(\u001b[0m\u001b[0mestimator\u001b[0m\u001b[0;34m,\u001b[0m\u001b[0mX_train\u001b[0m\u001b[0;34m,\u001b[0m\u001b[0my_train\u001b[0m\u001b[0;34m)\u001b[0m\u001b[0;34m\u001b[0m\u001b[0;34m\u001b[0m\u001b[0m\n\u001b[0m\u001b[1;32m     29\u001b[0m         \u001b[0mscores_2\u001b[0m \u001b[0;34m=\u001b[0m \u001b[0mclassificationMetrics\u001b[0m\u001b[0;34m(\u001b[0m\u001b[0mestimator\u001b[0m\u001b[0;34m,\u001b[0m\u001b[0mX_test\u001b[0m\u001b[0;34m,\u001b[0m\u001b[0my_test\u001b[0m\u001b[0;34m)\u001b[0m\u001b[0;34m\u001b[0m\u001b[0;34m\u001b[0m\u001b[0m\n\u001b[1;32m     30\u001b[0m \u001b[0;34m\u001b[0m\u001b[0m\n",
      "\u001b[0;32m<ipython-input-78-dbac9ea416bc>\u001b[0m in \u001b[0;36mclassificationMetrics\u001b[0;34m(estimator, X, y)\u001b[0m\n\u001b[1;32m     10\u001b[0m     \u001b[0mprint\u001b[0m\u001b[0;34m(\u001b[0m\u001b[0mconfusion_matrix\u001b[0m\u001b[0;34m(\u001b[0m\u001b[0my\u001b[0m\u001b[0;34m,\u001b[0m\u001b[0my_pred\u001b[0m\u001b[0;34m)\u001b[0m\u001b[0;34m.\u001b[0m\u001b[0mravel\u001b[0m\u001b[0;34m(\u001b[0m\u001b[0;34m)\u001b[0m\u001b[0;34m)\u001b[0m\u001b[0;34m\u001b[0m\u001b[0;34m\u001b[0m\u001b[0m\n\u001b[1;32m     11\u001b[0m \u001b[0;34m\u001b[0m\u001b[0m\n\u001b[0;32m---> 12\u001b[0;31m     \u001b[0mtn\u001b[0m\u001b[0;34m,\u001b[0m \u001b[0mfp\u001b[0m\u001b[0;34m,\u001b[0m \u001b[0mfn\u001b[0m\u001b[0;34m,\u001b[0m \u001b[0mtp\u001b[0m \u001b[0;34m=\u001b[0m \u001b[0mconfusion_matrix\u001b[0m\u001b[0;34m(\u001b[0m\u001b[0my\u001b[0m\u001b[0;34m,\u001b[0m\u001b[0my_pred\u001b[0m\u001b[0;34m)\u001b[0m\u001b[0;34m.\u001b[0m\u001b[0mravel\u001b[0m\u001b[0;34m(\u001b[0m\u001b[0;34m)\u001b[0m\u001b[0;34m\u001b[0m\u001b[0;34m\u001b[0m\u001b[0m\n\u001b[0m\u001b[1;32m     13\u001b[0m \u001b[0;34m\u001b[0m\u001b[0m\n\u001b[1;32m     14\u001b[0m     \u001b[0mresults\u001b[0m\u001b[0;34m[\u001b[0m\u001b[0;34m'precision'\u001b[0m\u001b[0;34m]\u001b[0m \u001b[0;34m=\u001b[0m \u001b[0mprecision_score\u001b[0m\u001b[0;34m(\u001b[0m\u001b[0my\u001b[0m\u001b[0;34m,\u001b[0m\u001b[0my_pred\u001b[0m\u001b[0;34m)\u001b[0m\u001b[0;34m\u001b[0m\u001b[0;34m\u001b[0m\u001b[0m\n",
      "\u001b[0;31mValueError\u001b[0m: too many values to unpack (expected 4)"
     ]
    }
   ],
   "source": [
    "ada = AdaBoostClassifier(n_estimators=200)\n",
    "assessGen(ada,X,y['ARG'],{},'instance',True)"
   ]
  },
  {
   "cell_type": "code",
   "execution_count": null,
   "metadata": {},
   "outputs": [],
   "source": []
  }
 ],
 "metadata": {
  "kernelspec": {
   "display_name": "Python 3",
   "language": "python",
   "name": "python3"
  },
  "language_info": {
   "codemirror_mode": {
    "name": "ipython",
    "version": 3
   },
   "file_extension": ".py",
   "mimetype": "text/x-python",
   "name": "python",
   "nbconvert_exporter": "python",
   "pygments_lexer": "ipython3",
   "version": "3.8.5"
  }
 },
 "nbformat": 4,
 "nbformat_minor": 4
}
